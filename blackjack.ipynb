{
 "cells": [
  {
   "cell_type": "code",
   "execution_count": 1,
   "id": "f62416fd-a5d5-4495-8fa7-ed45ee9971ea",
   "metadata": {},
   "outputs": [],
   "source": [
    "import random"
   ]
  },
  {
   "cell_type": "code",
   "execution_count": 48,
   "id": "8f2bf040-a089-4bf0-bcab-8ad369b2c09d",
   "metadata": {},
   "outputs": [],
   "source": [
    "#Set up the deck\n",
    "card_categories = ['Hearts','Diamonds','Clubs','Spades']\n",
    "cards_list = ['Ace','2','3','4','5','6','7','8','9','10','Jack','Queen','King']\n",
    "\n",
    "#returns total value given cards\n",
    "def total_card_value(cards):\n",
    "    sum = 0\n",
    "    ace_count = 0\n",
    "    for card in cards:\n",
    "        if card[0] in ['Jack','Queen','King']:\n",
    "            sum += 10\n",
    "        elif card[0] == 'Ace':\n",
    "            if sum +11<22:\n",
    "                ace_count += 1\n",
    "                sum += 11\n",
    "            else:\n",
    "                sum += 1\n",
    "        else:\n",
    "            sum += int(card[0])\n",
    "        #If sum hit 21 later, use aces as 1s not 11s\n",
    "        while(sum > 21 and ace_count >1):\n",
    "            sum -=10\n",
    "    return sum"
   ]
  },
  {
   "cell_type": "code",
   "execution_count": 50,
   "id": "62576dc8-3e5c-45ac-bfdb-28e99e85c235",
   "metadata": {},
   "outputs": [
    {
     "name": "stdout",
     "output_type": "stream",
     "text": [
      "Cards Player Has: [('5', 'Spades'), ('Ace', 'Spades')]\n",
      "Score Of The Player: 16\n"
     ]
    },
    {
     "name": "stdin",
     "output_type": "stream",
     "text": [
      "1 to play, 2 to stop 1\n"
     ]
    },
    {
     "name": "stdout",
     "output_type": "stream",
     "text": [
      "Player score: 16\n",
      "Cards Player Has: [('5', 'Spades'), ('Ace', 'Spades'), ('Jack', 'Diamonds')]\n",
      "Score Of The Player: 26\n",
      "Dealer had: [('7', 'Clubs'), ('9', 'Diamonds')]\n",
      "reward:  -2\n"
     ]
    }
   ],
   "source": [
    "#Shuffle and deal\n",
    "deck = [(card,category) for category in card_categories for card in cards_list]\n",
    "random.shuffle(deck)\n",
    "player_card = [deck.pop(),deck.pop()]\n",
    "dealer_card = [deck.pop(),deck.pop()]\n",
    "\n",
    "#simulate move here (for now implement human choices)\n",
    "def make_move():\n",
    "   return input(\"1 to play, 2 to stop\")\n",
    "\n",
    "reward = 0\n",
    "#play the game\n",
    "while True:\n",
    "    player_score = 0\n",
    "    player_score = total_card_value(player_card)\n",
    "    dealer_score = total_card_value(dealer_card)\n",
    "    print(\"Cards Player Has:\", player_card)\n",
    "    print(\"Score Of The Player:\", player_score)\n",
    "    if player_score > 21:\n",
    "        reward -=3\n",
    "        break\n",
    "    choice = make_move()\n",
    "    if choice == '1':\n",
    "        new_card = deck.pop()\n",
    "        player_card.append(new_card)\n",
    "    elif choice == '2':\n",
    "        break\n",
    "    else:\n",
    "        print(\"invalid choice try again\")\n",
    "        continue\n",
    "    print(\"Player score:\",player_score)\n",
    "    \n",
    "while dealer_score < 17 and reward ==0:\n",
    "    new_card = deck.pop()\n",
    "    dealer_card.append(new_card)\n",
    "    dealer_score = total_card_value(dealer_card)\n",
    "if dealer_score > 21:\n",
    "    reward +=1\n",
    "elif player_score > dealer_score:\n",
    "    reward+=1\n",
    "elif dealer_score > player_score:\n",
    "    reward-=2\n",
    "else:\n",
    "    reward -=1\n",
    "print(\"Dealer had:\", dealer_card)\n",
    "print(\"reward: \",reward)"
   ]
  },
  {
   "cell_type": "code",
   "execution_count": null,
   "id": "2080ce17-8323-46fa-b151-17a5aeb02371",
   "metadata": {},
   "outputs": [],
   "source": []
  }
 ],
 "metadata": {
  "kernelspec": {
   "display_name": "Python 3 (ipykernel)",
   "language": "python",
   "name": "python3"
  },
  "language_info": {
   "codemirror_mode": {
    "name": "ipython",
    "version": 3
   },
   "file_extension": ".py",
   "mimetype": "text/x-python",
   "name": "python",
   "nbconvert_exporter": "python",
   "pygments_lexer": "ipython3",
   "version": "3.12.0"
  }
 },
 "nbformat": 4,
 "nbformat_minor": 5
}
