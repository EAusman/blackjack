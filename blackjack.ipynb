{
 "cells": [
  {
   "cell_type": "code",
   "execution_count": 3,
   "id": "f62416fd-a5d5-4495-8fa7-ed45ee9971ea",
   "metadata": {},
   "outputs": [],
   "source": [
    "import random\n"
   ]
  },
  {
   "cell_type": "code",
   "execution_count": 4,
   "id": "8f2bf040-a089-4bf0-bcab-8ad369b2c09d",
   "metadata": {},
   "outputs": [],
   "source": [
    "#Set up the deck\n",
    "card_categories = ['Hearts','Diamonds','Clubs','Spades']\n",
    "cards_list = ['Ace','2','3','4','5','6','7','8','9','10','Jack','Queen','King']\n",
    "deck = [(card,category) for category in card_categories for card in cards_list]\n",
    "\n",
    "#returns card value given card\n",
    "def card_value(card):\n",
    "    if card[0] in ['Jack','Queen','King']:\n",
    "        return 10\n",
    "    elif card[0] == 'Ace':\n",
    "        return 11\n",
    "    else:\n",
    "        return int(card[0])"
   ]
  },
  {
   "cell_type": "code",
   "execution_count": 5,
   "id": "62576dc8-3e5c-45ac-bfdb-28e99e85c235",
   "metadata": {},
   "outputs": [
    {
     "name": "stdout",
     "output_type": "stream",
     "text": [
      "Cards Player Has: [('Queen', 'Hearts'), ('Ace', 'Spades')]\n",
      "Score Of The Player: 21\n"
     ]
    },
    {
     "name": "stdin",
     "output_type": "stream",
     "text": [
      "1 to play, 2 to stop 2\n"
     ]
    },
    {
     "name": "stdout",
     "output_type": "stream",
     "text": [
      "reward: 1\n"
     ]
    }
   ],
   "source": [
    "#Shuffle and deal\n",
    "random.shuffle(deck)\n",
    "player_card = [deck.pop(),deck.pop()]\n",
    "dealer_card = [deck.pop(),deck.pop()]\n",
    "\n",
    "#simulate move here (for now implement human choices)\n",
    "def make_move():\n",
    "   return input(\"1 to play, 2 to stop\")\n",
    "\n",
    "reward = 0\n",
    "#play the game\n",
    "while True:\n",
    "    player_score = sum(card_value(card) for card in player_card)\n",
    "    dealer_score = sum(card_value(card) for card in dealer_card)\n",
    "    print(\"Cards Player Has:\", player_card)\n",
    "    print(\"Score Of The Player:\", player_score)\n",
    "    choice = make_move()\n",
    "    if choice == '1':\n",
    "        new_card = deck.pop()\n",
    "        player_card.append(new_card)\n",
    "    elif choice == '2':\n",
    "        break\n",
    "    else:\n",
    "        print(\"invalid choice try again\")\n",
    "        continue\n",
    "    if player_score > 21:\n",
    "        reward -=3\n",
    "        break\n",
    "while dealer_score < 17:\n",
    "    new_card = deck.pop()\n",
    "    dealer_card.append(new_card)\n",
    "    dealer_score+=card_value(new_card)\n",
    "if dealer_score > 21:\n",
    "    reward +=1\n",
    "elif player_score > dealer_score:\n",
    "    reward+=1\n",
    "elif dealer_score > player_score:\n",
    "    reward-=2\n",
    "else:\n",
    "    reward -=1\n",
    "\n",
    "print(\"reward: \"+ str(reward))"
   ]
  },
  {
   "cell_type": "code",
   "execution_count": null,
   "id": "3f25b250-ea4b-431d-af4f-65438ecb8cf3",
   "metadata": {},
   "outputs": [],
   "source": []
  }
 ],
 "metadata": {
  "kernelspec": {
   "display_name": "Python 3 (ipykernel)",
   "language": "python",
   "name": "python3"
  },
  "language_info": {
   "codemirror_mode": {
    "name": "ipython",
    "version": 3
   },
   "file_extension": ".py",
   "mimetype": "text/x-python",
   "name": "python",
   "nbconvert_exporter": "python",
   "pygments_lexer": "ipython3",
   "version": "3.12.0"
  }
 },
 "nbformat": 4,
 "nbformat_minor": 5
}
